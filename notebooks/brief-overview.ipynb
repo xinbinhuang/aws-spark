{
 "cells": [
  {
   "cell_type": "code",
   "execution_count": 17,
   "metadata": {},
   "outputs": [],
   "source": [
    "from pyspark.sql import functions\n",
    "\n",
    "from src.utils import create_spark_session\n"
   ]
  },
  {
   "cell_type": "code",
   "execution_count": 18,
   "metadata": {},
   "outputs": [],
   "source": [
    "spark = create_spark_session('Streamming Intro')\n",
    "spark.conf.set(\"spark.sql.shuffle.partitions\", \"5\")"
   ]
  },
  {
   "cell_type": "code",
   "execution_count": 22,
   "metadata": {},
   "outputs": [
    {
     "name": "stdout",
     "output_type": "stream",
     "text": [
      "+----------+--------------------+------------------+\n",
      "|CustomerId|              window|   sum(total_cost)|\n",
      "+----------+--------------------+------------------+\n",
      "|   14075.0|[2011-12-04 16:00...|316.78000000000003|\n",
      "|   18180.0|[2011-12-04 16:00...|            310.73|\n",
      "|   15358.0|[2011-12-04 16:00...| 830.0600000000003|\n",
      "|   15392.0|[2011-12-04 16:00...|304.40999999999997|\n",
      "|   15290.0|[2011-12-04 16:00...|263.02000000000004|\n",
      "+----------+--------------------+------------------+\n",
      "only showing top 5 rows\n",
      "\n"
     ]
    }
   ],
   "source": [
    "# batch code\n",
    "from pyspark.sql.functions import window, column, desc, col\n",
    "\n",
    "\n",
    "staticDataFrame = spark.read.format(\"csv\")\\\n",
    "    .option(\"header\", \"true\")\\\n",
    "    .option(\"inferSchema\", \"true\")\\\n",
    "    .load(\"data/retail-data/by-day/*.csv\")\n",
    "\n",
    "staticDataFrame.createOrReplaceTempView(\"retail_data\")\n",
    "staticSchema = staticDataFrame.schema\n",
    "\n",
    "staticDataFrame\\\n",
    "    .selectExpr(\n",
    "        \"CustomerId\",\n",
    "        \"(UnitPrice * Quantity) as total_cost\",\n",
    "        \"InvoiceDate\")\\\n",
    "    .groupBy(\n",
    "        col(\"CustomerId\"), window(col(\"InvoiceDate\"), \"1 day\"))\\\n",
    "    .sum(\"total_cost\")\\\n",
    "    .show(5)"
   ]
  },
  {
   "cell_type": "code",
   "execution_count": 31,
   "metadata": {},
   "outputs": [],
   "source": [
    "# streamming code\n",
    "\n",
    "# maxFilesPerTrigger: number of files we should read in at once. \n",
    "# Set to 1 to make it streaming-ish\n",
    "\n",
    "streamingDataFrame = spark.readStream\\\n",
    "    .schema(staticSchema)\\\n",
    "    .option(\"maxFilesPerTrigger\", 1)\\\n",
    "    .format(\"csv\")\\\n",
    "    .option(\"header\", \"true\")\\\n",
    "    .load(\"data/retail-data/by-day/*.csv\")\n",
    "\n",
    "streamingDataFrame.isStreaming\n",
    "\n",
    "purchaseByCustomerPerHour = streamingDataFrame\\\n",
    "    .selectExpr(\n",
    "        \"CustomerId\",\n",
    "        \"(UnitPrice * Quantity) as total_cost\",\n",
    "        \"InvoiceDate\")\\\n",
    "    .groupBy(\n",
    "        col(\"CustomerId\"), window(col(\"InvoiceDate\"), \"1 day\"))\\\n",
    "    .sum(\"total_cost\")"
   ]
  },
  {
   "cell_type": "code",
   "execution_count": 34,
   "metadata": {},
   "outputs": [
    {
     "data": {
      "text/plain": [
       "<pyspark.sql.streaming.StreamingQuery at 0x7f5d33466b50>"
      ]
     },
     "execution_count": 34,
     "metadata": {},
     "output_type": "execute_result"
    }
   ],
   "source": [
    "# stream to memory\n",
    "purchaseByCustomerPerHour.writeStream\\\n",
    "    .format(\"memory\")\\\n",
    "    .queryName(\"customer_purchases\")\\\n",
    "    .outputMode(\"complete\")\\\n",
    "    .start()"
   ]
  },
  {
   "cell_type": "code",
   "execution_count": 68,
   "metadata": {},
   "outputs": [
    {
     "name": "stdout",
     "output_type": "stream",
     "text": [
      "+----------+--------------------+------------------+\n",
      "|CustomerId|              window|   sum(total_cost)|\n",
      "+----------+--------------------+------------------+\n",
      "|   17450.0|[2011-09-19 17:00...|          71601.44|\n",
      "|      null|[2011-11-07 16:00...| 64777.81999999999|\n",
      "|      null|[2011-11-14 16:00...|53812.909999999996|\n",
      "|      null|[2011-03-28 17:00...| 33521.39999999998|\n",
      "|      null|[2010-12-09 16:00...| 33425.12000000001|\n",
      "+----------+--------------------+------------------+\n",
      "only showing top 5 rows\n",
      "\n"
     ]
    }
   ],
   "source": [
    "spark.sql(\"\"\"\n",
    "    SELECT *\n",
    "    FROM customer_purchases\n",
    "    ORDER BY `sum(total_cost)` DESC\n",
    "\"\"\")\\\n",
    ".show(5)"
   ]
  },
  {
   "cell_type": "code",
   "execution_count": 70,
   "metadata": {},
   "outputs": [
    {
     "data": {
      "text/plain": [
       "<pyspark.sql.streaming.StreamingQuery at 0x7f5d31c3a150>"
      ]
     },
     "execution_count": 70,
     "metadata": {},
     "output_type": "execute_result"
    }
   ],
   "source": [
    "# this will goes into the console where you launch the jupyter lab/notebook\n",
    "purchaseByCustomerPerHour.writeStream\\\n",
    "    .format(\"console\")\\\n",
    "    .queryName(\"customer_purchases_2\")\\\n",
    "    .outputMode(\"complete\")\\\n",
    "    .start()"
   ]
  },
  {
   "cell_type": "code",
   "execution_count": null,
   "metadata": {},
   "outputs": [],
   "source": [
    "# stop the streaming jobs\n",
    "for active_stream in spark.streams.active:\n",
    "    active_stream.stop()"
   ]
  },
  {
   "cell_type": "markdown",
   "metadata": {},
   "source": [
    "### MLib"
   ]
  },
  {
   "cell_type": "code",
   "execution_count": 72,
   "metadata": {},
   "outputs": [
    {
     "name": "stdout",
     "output_type": "stream",
     "text": [
      "root\n",
      " |-- InvoiceNo: string (nullable = true)\n",
      " |-- StockCode: string (nullable = true)\n",
      " |-- Description: string (nullable = true)\n",
      " |-- Quantity: integer (nullable = true)\n",
      " |-- InvoiceDate: timestamp (nullable = true)\n",
      " |-- UnitPrice: double (nullable = true)\n",
      " |-- CustomerID: double (nullable = true)\n",
      " |-- Country: string (nullable = true)\n",
      "\n"
     ]
    }
   ],
   "source": [
    "staticDataFrame.printSchema()"
   ]
  },
  {
   "cell_type": "code",
   "execution_count": 84,
   "metadata": {},
   "outputs": [],
   "source": [
    "from pyspark.sql.functions import date_format, col\n",
    "preppedDataFrame = staticDataFrame\\\n",
    "    .na.fill(0)\\\n",
    "    .withColumn(\"day_of_week\", date_format(col(\"InvoiceDate\"), \"EEEE\"))\\\n",
    "    .coalesce(5) # coalesce to numPartitions partitions"
   ]
  },
  {
   "cell_type": "code",
   "execution_count": 82,
   "metadata": {},
   "outputs": [
    {
     "data": {
      "text/plain": [
       "5"
      ]
     },
     "execution_count": 82,
     "metadata": {},
     "output_type": "execute_result"
    }
   ],
   "source": [
    "preppedDataFrame.rdd.getNumPartitions()"
   ]
  },
  {
   "cell_type": "code",
   "execution_count": 92,
   "metadata": {},
   "outputs": [
    {
     "name": "stdout",
     "output_type": "stream",
     "text": [
      "Train size:  245903\n",
      "Test size:  296006\n"
     ]
    }
   ],
   "source": [
    "trainDataFrame = preppedDataFrame\\\n",
    "    .where(\"InvoiceDate < '2011-07-01'\")\n",
    "testDataFrame = preppedDataFrame\\\n",
    "    .where(\"InvoiceDate >= '2011-07-01'\")\n",
    "\n",
    "print('Train size: ', trainDataFrame.count())\n",
    "print('Test size: ', testDataFrame.count())"
   ]
  },
  {
   "cell_type": "code",
   "execution_count": 134,
   "metadata": {},
   "outputs": [],
   "source": [
    "from pyspark.ml.feature import StringIndexer, OneHotEncoder, VectorAssembler\n",
    "from pyspark.ml import Pipeline\n",
    "from pyspark.sql import DataFrame\n",
    "\n",
    "def build_pipeline() -> Pipeline:\n",
    "    \n",
    "    indexer = StringIndexer()\\\n",
    "        .setInputCol(\"day_of_week\")\\\n",
    "        .setOutputCol(\"day_of_week_index\")\n",
    "    encoder = OneHotEncoder()\\\n",
    "        .setInputCol(\"day_of_week_index\")\\\n",
    "        .setOutputCol(\"day_of_week_encoded\")\n",
    "    \n",
    "    vectorAssembler = VectorAssembler()\\\n",
    "        .setInputCols([\"UnitPrice\", \"Quantity\", \"day_of_week_encoded\"])\\\n",
    "        .setOutputCol(\"features\")\n",
    "    \n",
    "    transformationPipeline = Pipeline()\\\n",
    "        .setStages([indexer, encoder, vectorAssembler])\n",
    "    transformationPipeline.fit(trainDataFrame)\n",
    "    \n",
    "    return transformationPipeline"
   ]
  },
  {
   "cell_type": "code",
   "execution_count": 135,
   "metadata": {},
   "outputs": [],
   "source": [
    "transformationPipeline = build_pipeline()\n",
    "\n",
    "fittedPipeline = transformationPipeline.fit(trainDataFrame)\n",
    "transformedTraining = fittedPipeline.transform(trainDataFrame)\n",
    "\n",
    "# cache the data in memory\n",
    "transformedTraining.cache()\n"
   ]
  },
  {
   "cell_type": "code",
   "execution_count": 144,
   "metadata": {},
   "outputs": [
    {
     "name": "stdout",
     "output_type": "stream",
     "text": [
      "Elapsed time :  1.791419599991059\n",
      "Training cost:  84553739.96537484\n",
      "Test cost:  517507094.72221166\n"
     ]
    }
   ],
   "source": [
    "import time\n",
    "\n",
    "from pyspark.ml.clustering import KMeans\n",
    "\n",
    "\n",
    "kmeans = KMeans()\\\n",
    "    .setK(20)\\\n",
    "    .setSeed(1)\n",
    "\n",
    "start = time.perf_counter()\n",
    "kmModel = kmeans.fit(transformedTraining)\n",
    "print(\"Elapsed time : \", time.perf_counter() - start)\n",
    "\n",
    "train_cost = kmModel.computeCost(transformedTraining)\n",
    "print(\"Training cost: \", train_cost)\n",
    "\n",
    "transformedTest = fittedPipeline.transform(testDataFrame)\n",
    "test_cost = kmModel.computeCost(transformedTest)\n",
    "print(\"Test cost: \", test_cost)"
   ]
  },
  {
   "cell_type": "markdown",
   "metadata": {},
   "source": [
    "### Lower-LEVEL APIs\n",
    "\n",
    "- RDDs: reveal physical execution characteristics (i.e. partitions)\n",
    "- Should not be used unless necessary (almost never)\n",
    "    "
   ]
  },
  {
   "cell_type": "code",
   "execution_count": 140,
   "metadata": {},
   "outputs": [
    {
     "data": {
      "text/plain": [
       "DataFrame[_1: bigint]"
      ]
     },
     "execution_count": 140,
     "metadata": {},
     "output_type": "execute_result"
    }
   ],
   "source": [
    "# build Spark DataFrame from in memory raw-data\n",
    "from pyspark.sql import Row\n",
    "spark.sparkContext.parallelize([Row(1), Row(2), Row(3)]).toDF()"
   ]
  },
  {
   "cell_type": "code",
   "execution_count": null,
   "metadata": {},
   "outputs": [],
   "source": []
  },
  {
   "cell_type": "code",
   "execution_count": null,
   "metadata": {},
   "outputs": [],
   "source": []
  }
 ],
 "metadata": {
  "kernelspec": {
   "display_name": "Python 3",
   "language": "python",
   "name": "python3"
  },
  "language_info": {
   "codemirror_mode": {
    "name": "ipython",
    "version": 3
   },
   "file_extension": ".py",
   "mimetype": "text/x-python",
   "name": "python",
   "nbconvert_exporter": "python",
   "pygments_lexer": "ipython3",
   "version": "3.7.4"
  }
 },
 "nbformat": 4,
 "nbformat_minor": 4
}
